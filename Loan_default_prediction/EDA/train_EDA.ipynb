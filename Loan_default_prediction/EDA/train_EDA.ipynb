{
 "cells": [
  {
   "cell_type": "code",
   "execution_count": 7,
   "metadata": {},
   "outputs": [],
   "source": [
    "import pandas as pd\n",
    "from sklearn.preprocessing import LabelEncoder,MinMaxScaler\n",
    "from IPython.core.interactiveshell import InteractiveShell\n",
    "InteractiveShell.ast_node_interactivity = \"all\" \n",
    "# 列显示全\n",
    "pd.set_option('display.max_columns',None)\n",
    "pd.set_option('display.max_rows',None)"
   ]
  },
  {
   "cell_type": "markdown",
   "metadata": {},
   "source": [
    "# 读取数据集后合并一起做特征工程"
   ]
  },
  {
   "cell_type": "code",
   "execution_count": 14,
   "metadata": {},
   "outputs": [],
   "source": [
    "train_path = '../dataset/train.csv'\n",
    "testA_path = '../dataset/testA.csv'\n",
    "\n",
    "train = pd.read_csv(train_path)\n",
    "testA = pd.read_csv(testA_path)\n",
    "\n",
    "y_true = train['isDefault']\n",
    "train.drop(['isDefault'], axis=1, inplace=True)\n",
    "all_data = train.append(testA)"
   ]
  },
  {
   "cell_type": "markdown",
   "metadata": {},
   "source": [
    "- 样本空值数量特征"
   ]
  },
  {
   "cell_type": "code",
   "execution_count": 15,
   "metadata": {},
   "outputs": [],
   "source": [
    "# 空值数量特征\n",
    "all_data['nan_count'] = all_data.isnull().sum(axis=1)\n",
    "# 空值数量百分比特征\n",
    "all_data['nan_ration'] = all_data['nan_count'] / 46\n",
    "all_data['nan_ration'] = all_data['nan_ration'].apply(lambda x : round(x,2))"
   ]
  },
  {
   "cell_type": "markdown",
   "metadata": {},
   "source": [
    "- LabelEncoder()"
   ]
  },
  {
   "cell_type": "code",
   "execution_count": 16,
   "metadata": {},
   "outputs": [],
   "source": [
    "# 找出类型为object的列，做LabelEncoder()\n",
    "object_col = []\n",
    "for index, value in all_data.dtypes.items():\n",
    "    if value == 'object':\n",
    "        object_col.append(index)\n",
    "\n",
    "# object_col = ['grade', 'subGrade', 'employmentLength', 'issueDate', 'earliesCreditLine']\n",
    "all_data[object_col] = all_data[object_col].apply(LabelEncoder().fit_transform)\n",
    "\n",
    "# 数值分布跨度较大的连续型特征做MinMaxScaler()\n",
    "continue_col = ['loanAmnt','interestRate','installment','employmentTitle','annualIncome','revolBal','title']\n",
    "all_data[continue_col] = MinMaxScaler().fit_transform(all_data[continue_col])"
   ]
  },
  {
   "cell_type": "markdown",
   "metadata": {},
   "source": [
    "- 处理缺失值"
   ]
  },
  {
   "cell_type": "code",
   "execution_count": 17,
   "metadata": {},
   "outputs": [],
   "source": [
    "# 用-1填充空值让模型捕捉到空值信息\n",
    "all_data = all_data.fillna(-1)"
   ]
  },
  {
   "cell_type": "markdown",
   "metadata": {},
   "source": [
    "- 特征工程处理后将训练集和测试集分开"
   ]
  },
  {
   "cell_type": "code",
   "execution_count": 18,
   "metadata": {},
   "outputs": [
    {
     "name": "stderr",
     "output_type": "stream",
     "text": [
      "<ipython-input-18-0bd2d6126d37>:4: SettingWithCopyWarning: \n",
      "A value is trying to be set on a copy of a slice from a DataFrame.\n",
      "Try using .loc[row_indexer,col_indexer] = value instead\n",
      "\n",
      "See the caveats in the documentation: https://pandas.pydata.org/pandas-docs/stable/user_guide/indexing.html#returning-a-view-versus-a-copy\n",
      "  train_process['isDefault'] = y_true.values\n"
     ]
    }
   ],
   "source": [
    "train_process = all_data[all_data['id']<800000]\n",
    "testA_process = all_data[all_data['id']>=800000]\n",
    "\n",
    "train_process['isDefault'] = y_true.values"
   ]
  },
  {
   "cell_type": "code",
   "execution_count": 19,
   "metadata": {},
   "outputs": [],
   "source": [
    "train_process.to_csv('../dataset/train_process.csv', index=False)\n",
    "testA_process.to_csv('../dataset/testA_process.csv', index=False)"
   ]
  }
 ],
 "metadata": {
  "kernelspec": {
   "display_name": "myconda",
   "language": "python",
   "name": "myconda"
  },
  "language_info": {
   "codemirror_mode": {
    "name": "ipython",
    "version": 3
   },
   "file_extension": ".py",
   "mimetype": "text/x-python",
   "name": "python",
   "nbconvert_exporter": "python",
   "pygments_lexer": "ipython3",
   "version": "3.8.2"
  }
 },
 "nbformat": 4,
 "nbformat_minor": 2
}

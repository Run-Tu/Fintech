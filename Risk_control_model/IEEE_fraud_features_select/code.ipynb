{
 "cells": [
  {
   "cell_type": "code",
   "execution_count": 1,
   "metadata": {},
   "outputs": [],
   "source": [
    "import math\n",
    "import numpy as np\n",
    "import pandas as pd\n",
    "\n",
    "# 多行输出\n",
    "from IPython.core.interactiveshell import InteractiveShell\n",
    "InteractiveShell.ast_node_interactivity = \"all\" "
   ]
  },
  {
   "cell_type": "code",
   "execution_count": 9,
   "metadata": {},
   "outputs": [
    {
     "data": {
      "text/plain": [
       "(144233, 434)"
      ]
     },
     "execution_count": 9,
     "metadata": {},
     "output_type": "execute_result"
    },
    {
     "data": {
      "text/plain": [
       "array([132915,  11318])"
      ]
     },
     "execution_count": 9,
     "metadata": {},
     "output_type": "execute_result"
    }
   ],
   "source": [
    "train = pd.read_csv(\"./data/train_all_features.csv\")\n",
    "# 查看样本总量\n",
    "train.shape\n",
    "# 查看good样本和bad样本数量,方便计算WOE\n",
    "train[\"isFraud\"].value_counts().values"
   ]
  },
  {
   "cell_type": "code",
   "execution_count": 10,
   "metadata": {},
   "outputs": [],
   "source": [
    "# 获取缺失值超过95%的特征列并去除\n",
    "percent_95NA_cols = [\n",
    "    col for col in train.columns\n",
    "    if sum(train[col].isnull()) / 144233 >=0.95\n",
    "]\n",
    "train = train.drop(percent_95NA_cols, axis=1)"
   ]
  },
  {
   "cell_type": "markdown",
   "metadata": {},
   "source": [
    "### WOE编码"
   ]
  },
  {
   "cell_type": "code",
   "execution_count": 11,
   "metadata": {},
   "outputs": [],
   "source": [
    "def get_col_woe_score(col_name:str, train_df:pd.DataFrame):\n",
    "    \"\"\"\n",
    "    根据特征列获取分箱后的woe值\n",
    "    好样本数量:132915\n",
    "    坏样本数量:11318\n",
    "    Args:\n",
    "        col_name (str): 获取woe值的特征列名\n",
    "        train_df (DataFrame): 训练数据集\n",
    "\n",
    "    return:\n",
    "        bin_woe_map_value (dict): {bin_name : woe_score}\n",
    "        train_df (DataFrame): 处理好的dataframe\n",
    "    \"\"\"\n",
    "    col_name_df = train_df[[col_name,\"isFraud\"]]\n",
    "    bin_woe_map_value = {}\n",
    "    for value in train[col_name].unique():\n",
    "        good_bin_cnt, bad_bi_cnt = col_name_df[col_name_df[col_name]==value][\"isFraud\"].value_counts().values\n",
    "        woe = np.log(bad_bi_cnt / 11318) - np.log(good_bin_cnt / 132915)\n",
    "        bin_woe_map_value[value] = woe\n",
    "    \n",
    "    train_df[col_name+\"_woe\"] = train_df[col_name].map(bin_woe_map_value)\n",
    "    train_df.drop(col_name,axis=1,inplace=True)\n",
    "\n",
    "    return train_df,bin_woe_map_value"
   ]
  },
  {
   "cell_type": "markdown",
   "metadata": {},
   "source": [
    "- 自定义分箱"
   ]
  },
  {
   "cell_type": "code",
   "execution_count": 12,
   "metadata": {},
   "outputs": [
    {
     "data": {
      "text/plain": [
       "(array([  1448.,    311.,    307.,    199.,    739.,   2861.,   3027.,\n",
       "          5345.,  16983., 113013.]),\n",
       " array([-100.,  -90.,  -80.,  -70.,  -60.,  -50.,  -40.,  -30.,  -20.,\n",
       "         -10.,    0.]),\n",
       " <BarContainer object of 10 artists>)"
      ]
     },
     "execution_count": 12,
     "metadata": {},
     "output_type": "execute_result"
    },
    {
     "data": {
      "image/png": "[encoded data removed]",
      "text/plain": [
       "<Figure size 640x480 with 1 Axes>"
      ]
     },
     "metadata": {},
     "output_type": "display_data"
    },
    {
     "data": {
      "text/plain": [
       "'\\n    bin1: -10 <= x < 0\\n    bin2: -50 <= x < -10\\n    bin3: x < -50\\n'"
      ]
     },
     "execution_count": 12,
     "metadata": {},
     "output_type": "execute_result"
    }
   ],
   "source": [
    "# 找出连续特征列,从中任取3列做等频分箱WOE、等距分箱WOE和自定义分箱WOE\n",
    "continues_cols = [\n",
    "    col for col in train.columns\n",
    "    if train[col].dtype == 'float64'\n",
    "]\n",
    "\n",
    "# 自定义分箱WOE,查看特征分布\n",
    "import matplotlib.pyplot as plt\n",
    "plt.hist(train['id_01'])\n",
    "plt.show()\n",
    "\n",
    "\"\"\"\n",
    "    bin1: -10 <= x < 0\n",
    "    bin2: -50 <= x < -10\n",
    "    bin3: x < -50\n",
    "\"\"\"\n",
    "train[\"id_01_customize_bins\"] = train[\"id_01\"].apply(lambda x:\n",
    "                               'bin1_-10_0' if -10<= x <0 else\n",
    "                               'bin2_-50_-10' if -50<= x <-10 else\n",
    "                               'bin_3_less_than_-50' \n",
    "                                )\n",
    "train,id_01_customize_bins_map = get_col_woe_score(\"id_01_customize_bins\", train)"
   ]
  },
  {
   "cell_type": "code",
   "execution_count": 46,
   "metadata": {},
   "outputs": [
    {
     "data": {
      "text/plain": [
       "{'bin_3_less_than_-50': -0.1524215963976605,\n",
       " 'bin1_-10_0': -0.19683304720295225,\n",
       " 'bin2_-50_-10': 0.5635844950204418}"
      ]
     },
     "execution_count": 46,
     "metadata": {},
     "output_type": "execute_result"
    }
   ],
   "source": [
    "id_01_customize_bins_map"
   ]
  },
  {
   "cell_type": "markdown",
   "metadata": {},
   "source": [
    "- 等距分箱"
   ]
  },
  {
   "cell_type": "code",
   "execution_count": 65,
   "metadata": {},
   "outputs": [],
   "source": [
    "# 等距分箱\n",
    "def get_equal_interval_bins(column:str, train:pd.DataFrame, bins=8):\n",
    "    \"\"\"等距分箱并返回结果\n",
    "\n",
    "    Args:\n",
    "        column (str): 特征列名\n",
    "        train (pd.DataFrame): 训练数据\n",
    "        bins (int, optional): 分箱数量一般采用5-10箱. Defaults to 8.\n",
    "\n",
    "    return:\n",
    "        分箱后的dataframe\n",
    "    \"\"\"\n",
    "    minValue = train[column].min()\n",
    "    maxValue = train[column].max()\n",
    "    bin_interval = (maxValue - minValue) / bins\n",
    "\n",
    "    def _apply_bin_func(value):\n",
    "        bin_num = math.floor((value - minValue) / bin_interval)\n",
    "        if bin_num < 8:\n",
    "            bin_left = minValue + bin_num * bin_interval\n",
    "            bin_right = minValue + (bin_num+1) * bin_interval\n",
    "\n",
    "            bin_name = f\"{column}_{bin_num}_{bin_left}_{bin_right}\"\n",
    "        else:\n",
    "            bin_left = maxValue - bin_interval\n",
    "\n",
    "            bin_name = f\"{column}_{7}_{bin_left}_{maxValue}\"\n",
    "\n",
    "        return bin_name\n",
    "        \n",
    "\n",
    "    train[f\"{column}_equal_interval_bins\"] = train[f\"{column}\"].apply(lambda x: \"NAN\" if pd.isna(x) else _apply_bin_func(x))\n",
    "                               \n",
    "    return train"
   ]
  },
  {
   "cell_type": "code",
   "execution_count": 67,
   "metadata": {},
   "outputs": [
    {
     "data": {
      "text/plain": [
       "id_02_0_1.0_124950.25         70006\n",
       "id_02_1_124950.25_249899.5    39958\n",
       "id_02_2_249899.5_374848.75    15841\n",
       "id_02_3_374848.75_499798.0     7559\n",
       "id_02_4_499798.0_624747.25     3975\n",
       "NAN                            3361\n",
       "id_02_5_624747.25_749696.5     1886\n",
       "id_02_6_749696.5_874645.75     1056\n",
       "id_02_7_874645.75_999595.0      591\n",
       "Name: id_02_equal_interval_bins, dtype: int64"
      ]
     },
     "execution_count": 67,
     "metadata": {},
     "output_type": "execute_result"
    }
   ],
   "source": [
    "train = get_equal_interval_bins(\"id_02\", train)\n",
    "train[\"id_02_equal_interval_bins\"].value_counts()"
   ]
  },
  {
   "cell_type": "code",
   "execution_count": 70,
   "metadata": {},
   "outputs": [],
   "source": [
    "train,id_02_equal_interval_bins_map = get_col_woe_score(\"id_02_equal_interval_bins\", train)"
   ]
  },
  {
   "cell_type": "code",
   "execution_count": 76,
   "metadata": {},
   "outputs": [
    {
     "data": {
      "text/plain": [
       "[('NAN', -1.0633514027956514),\n",
       " ('id_02_0_1.0_124950.25', -0.15145017071321587),\n",
       " ('id_02_1_124950.25_249899.5', 0.0671116684769757),\n",
       " ('id_02_6_749696.5_874645.75', 0.13759577905134002),\n",
       " ('id_02_2_249899.5_374848.75', 0.19975269586234257),\n",
       " ('id_02_5_624747.25_749696.5', 0.3202828029856759),\n",
       " ('id_02_3_374848.75_499798.0', 0.34458205789659724),\n",
       " ('id_02_4_499798.0_624747.25', 0.37706343676468057),\n",
       " ('id_02_7_874645.75_999595.0', 0.5944386748745565)]"
      ]
     },
     "execution_count": 76,
     "metadata": {},
     "output_type": "execute_result"
    }
   ],
   "source": [
    "sorted(id_02_equal_interval_bins_map.items(),key=lambda x:x[1])"
   ]
  },
  {
   "cell_type": "markdown",
   "metadata": {},
   "source": [
    "- 等频分箱"
   ]
  },
  {
   "cell_type": "code",
   "execution_count": 80,
   "metadata": {},
   "outputs": [
    {
     "data": {
      "text/plain": [
       " NaN     77909\n",
       " 0.0     63903\n",
       " 1.0       863\n",
       " 3.0       668\n",
       " 2.0       421\n",
       " 5.0       109\n",
       " 4.0       100\n",
       " 6.0        64\n",
       "-5.0        33\n",
       "-6.0        31\n",
       "-7.0        21\n",
       "-4.0        21\n",
       "-10.0       17\n",
       "-8.0        14\n",
       "-2.0        12\n",
       "-1.0        12\n",
       "-3.0         8\n",
       "-9.0         6\n",
       "-11.0        6\n",
       " 7.0         4\n",
       " 9.0         3\n",
       "-12.0        3\n",
       "-13.0        3\n",
       " 10.0        1\n",
       " 8.0         1\n",
       "Name: id_03, dtype: int64"
      ]
     },
     "execution_count": 80,
     "metadata": {},
     "output_type": "execute_result"
    }
   ],
   "source": [
    "train[\"id_03\"].value_counts(dropna=False)"
   ]
  },
  {
   "cell_type": "code",
   "execution_count": 83,
   "metadata": {},
   "outputs": [],
   "source": [
    "# 等频分箱\n",
    "def get_equal_frequence_bins(column:str, train:pd.DataFrame, bins=8):\n",
    "    \"\"\"等频分箱并返回结果\n",
    "\n",
    "    Args:\n",
    "        column (str): 特征列名\n",
    "        train (pd.DataFrame): 训练数据\n",
    "        bins (int, optional): 分箱数量一般采用5-10箱. Defaults to 8.\n",
    "\n",
    "    return:\n",
    "        分箱后的dataframe\n",
    "    \"\"\"\n",
    "    percentiles = np.linspace(0,1,bins+1)\n",
    "    splits = np.percentile(train[column], percentiles * 100)\n",
    "\n",
    "    def _apply_bin_func(value):\n",
    "        if pd.isna(value):\n",
    "            bin_name = \"NAN\"\n",
    "        else:\n",
    "            bin_name=''\n",
    "            for i in range(bins):\n",
    "                if splits[i] <= value < splits[i+1]:\n",
    "                    bin_name = f\"{column}_frequence_bin_{i}\"\n",
    "            if not bin_name:\n",
    "                bin_name = f\"{column}_frequence_bin_{bins-1}\"\n",
    "\n",
    "        return bin_name       \n",
    "\n",
    "    train[f\"{column}_equal_frequence_bins\"] = train[f\"{column}\"].apply(lambda x: _apply_bin_func(x))\n",
    "                               \n",
    "    return train"
   ]
  },
  {
   "cell_type": "code",
   "execution_count": 87,
   "metadata": {},
   "outputs": [],
   "source": [
    "train = get_equal_frequence_bins(\"id_03\", train)"
   ]
  },
  {
   "cell_type": "code",
   "execution_count": 88,
   "metadata": {},
   "outputs": [
    {
     "data": {
      "text/plain": [
       "NAN                      77909\n",
       "id_03_frequence_bin_7    66324\n",
       "Name: id_03_equal_frequence_bins, dtype: int64"
      ]
     },
     "execution_count": 88,
     "metadata": {},
     "output_type": "execute_result"
    }
   ],
   "source": [
    "train[\"id_03_equal_frequence_bins\"].value_counts()"
   ]
  },
  {
   "cell_type": "code",
   "execution_count": null,
   "metadata": {},
   "outputs": [],
   "source": []
  }
 ],
 "metadata": {
  "kernelspec": {
   "display_name": "base",
   "language": "python",
   "name": "python3"
  },
  "language_info": {
   "codemirror_mode": {
    "name": "ipython",
    "version": 3
   },
   "file_extension": ".py",
   "mimetype": "text/x-python",
   "name": "python",
   "nbconvert_exporter": "python",
   "pygments_lexer": "ipython3",
   "version": "3.8.17"
  },
  "orig_nbformat": 4
 },
 "nbformat": 4,
 "nbformat_minor": 2
}

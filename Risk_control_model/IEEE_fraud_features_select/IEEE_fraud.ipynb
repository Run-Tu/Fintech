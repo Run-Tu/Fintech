{
 "cells": [
  {
   "cell_type": "code",
   "execution_count": 24,
   "metadata": {},
   "outputs": [],
   "source": [
    "import math\n",
    "import numpy as np\n",
    "import pandas as pd\n",
    "\n",
    "# 多行输出\n",
    "from IPython.core.interactiveshell import InteractiveShell\n",
    "InteractiveShell.ast_node_interactivity = \"all\" "
   ]
  },
  {
   "cell_type": "code",
   "execution_count": 25,
   "metadata": {},
   "outputs": [
    {
     "data": {
      "text/plain": [
       "(144233, 434)"
      ]
     },
     "execution_count": 25,
     "metadata": {},
     "output_type": "execute_result"
    },
    {
     "data": {
      "text/plain": [
       "array([132915,  11318])"
      ]
     },
     "execution_count": 25,
     "metadata": {},
     "output_type": "execute_result"
    }
   ],
   "source": [
    "train = pd.read_csv(\"./data/train_all_features.csv\")\n",
    "# 查看样本总量\n",
    "train.shape\n",
    "# 查看good样本和bad样本数量,方便计算WOE\n",
    "train[\"isFraud\"].value_counts().values"
   ]
  },
  {
   "cell_type": "code",
   "execution_count": 26,
   "metadata": {},
   "outputs": [],
   "source": [
    "# 获取缺失值超过95%的特征列并去除\n",
    "percent_95NA_cols = [\n",
    "    col for col in train.columns\n",
    "    if sum(train[col].isnull()) / 144233 >=0.95\n",
    "]\n",
    "train = train.drop(percent_95NA_cols, axis=1)"
   ]
  },
  {
   "cell_type": "markdown",
   "metadata": {},
   "source": [
    "### WOE编码"
   ]
  },
  {
   "cell_type": "code",
   "execution_count": 27,
   "metadata": {},
   "outputs": [],
   "source": [
    "def get_col_woe_and_iv_score(col_name:str, train_df:pd.DataFrame):\n",
    "    \"\"\"\n",
    "    根据特征列获取分箱后的woe值和iv值\n",
    "    好样本数量:132915\n",
    "    坏样本数量:11318\n",
    "    Args:\n",
    "        col_name (str): 获取woe值的特征列名\n",
    "        train_df (DataFrame): 训练数据集\n",
    "\n",
    "    return:\n",
    "        bin_woe_map_value (dict): {bin_name : woe_score}\n",
    "        train_df (DataFrame): 处理好的dataframe\n",
    "    \"\"\"\n",
    "    col_name_df = train_df[[col_name,\"isFraud\"]]\n",
    "    bin_woe_map_value = {}\n",
    "    bin_iv_map_value = {}\n",
    "    for value in train[col_name].unique():\n",
    "        good_bin_cnt, bad_bi_cnt = col_name_df[col_name_df[col_name]==value][\"isFraud\"].value_counts().values\n",
    "        woe = np.log(bad_bi_cnt / 11318) - np.log(good_bin_cnt / 132915)\n",
    "        iv = ( (bad_bi_cnt / 11318) - (good_bin_cnt / 132915) ) * woe\n",
    "        bin_woe_map_value[value] = woe\n",
    "        bin_iv_map_value[value] = iv\n",
    "\n",
    "    train_df[col_name+\"_woe\"] = train_df[col_name].map(bin_woe_map_value)\n",
    "    train_df[col_name+\"_iv\"] = train_df[col_name].map(bin_iv_map_value)\n",
    "    train_df.drop(col_name,axis=1,inplace=True)\n",
    "\n",
    "    return train_df,bin_woe_map_value,bin_iv_map_value"
   ]
  },
  {
   "cell_type": "markdown",
   "metadata": {},
   "source": [
    "- 自定义分箱"
   ]
  },
  {
   "cell_type": "code",
   "execution_count": 28,
   "metadata": {},
   "outputs": [
    {
     "data": {
      "text/plain": [
       "(array([  1448.,    311.,    307.,    199.,    739.,   2861.,   3027.,\n",
       "          5345.,  16983., 113013.]),\n",
       " array([-100.,  -90.,  -80.,  -70.,  -60.,  -50.,  -40.,  -30.,  -20.,\n",
       "         -10.,    0.]),\n",
       " <BarContainer object of 10 artists>)"
      ]
     },
     "execution_count": 28,
     "metadata": {},
     "output_type": "execute_result"
    },
    {
     "data": {
      "image/png": "[encoded data removed]",
      "text/plain": [
       "<Figure size 640x480 with 1 Axes>"
      ]
     },
     "metadata": {},
     "output_type": "display_data"
    },
    {
     "data": {
      "text/plain": [
       "'\\n    bin1: -10 <= x < 0\\n    bin2: -50 <= x < -10\\n    bin3: x < -50\\n'"
      ]
     },
     "execution_count": 28,
     "metadata": {},
     "output_type": "execute_result"
    }
   ],
   "source": [
    "# 找出连续特征列,从中任取3列做等频分箱WOE、等距分箱WOE和自定义分箱WOE\n",
    "continues_cols = [\n",
    "    col for col in train.columns\n",
    "    if train[col].dtype == 'float64'\n",
    "]\n",
    "\n",
    "# 自定义分箱WOE,查看特征分布\n",
    "import matplotlib.pyplot as plt\n",
    "plt.hist(train['id_01'])\n",
    "plt.show()\n",
    "\n",
    "\"\"\"\n",
    "    bin1: -10 <= x < 0\n",
    "    bin2: -50 <= x < -10\n",
    "    bin3: x < -50\n",
    "\"\"\"\n",
    "train[\"id_01_customize_bins\"] = train[\"id_01\"].apply(lambda x:\n",
    "                               'bin1_-10_0' if -10<= x <0 else\n",
    "                               'bin2_-50_-10' if -50<= x <-10 else\n",
    "                               'bin_3_less_than_-50' \n",
    "                                )\n",
    "train, id_01_customize_bins_woe_map, id_01_customize_bins_iv_map = get_col_woe_and_iv_score(\"id_01_customize_bins\", train)"
   ]
  },
  {
   "cell_type": "code",
   "execution_count": 29,
   "metadata": {},
   "outputs": [
    {
     "data": {
      "text/plain": [
       "{'bin_3_less_than_-50': -0.1524215963976605,\n",
       " 'bin1_-10_0': -0.19683304720295225,\n",
       " 'bin2_-50_-10': 0.5635844950204418}"
      ]
     },
     "execution_count": 29,
     "metadata": {},
     "output_type": "execute_result"
    },
    {
     "data": {
      "text/plain": [
       "{'bin_3_less_than_-50': 0.00340812441729534,\n",
       " 'bin1_-10_0': 0.023112082374741886,\n",
       " 'bin2_-50_-10': 0.07877760290433763}"
      ]
     },
     "execution_count": 29,
     "metadata": {},
     "output_type": "execute_result"
    }
   ],
   "source": [
    "id_01_customize_bins_woe_map\n",
    "id_01_customize_bins_iv_map"
   ]
  },
  {
   "cell_type": "code",
   "execution_count": 46,
   "metadata": {},
   "outputs": [
    {
     "data": {
      "text/plain": [
       "0.10529780969637487"
      ]
     },
     "execution_count": 46,
     "metadata": {},
     "output_type": "execute_result"
    }
   ],
   "source": [
    "sum(id_01_customize_bins_iv_map.values())"
   ]
  },
  {
   "cell_type": "markdown",
   "metadata": {},
   "source": [
    "- 等距分箱"
   ]
  },
  {
   "cell_type": "code",
   "execution_count": 30,
   "metadata": {},
   "outputs": [],
   "source": [
    "# 等距分箱\n",
    "def get_equal_interval_bins(column:str, train:pd.DataFrame, bins=8):\n",
    "    \"\"\"等距分箱并返回结果\n",
    "\n",
    "    Args:\n",
    "        column (str): 特征列名\n",
    "        train (pd.DataFrame): 训练数据\n",
    "        bins (int, optional): 分箱数量一般采用5-10箱. Defaults to 8.\n",
    "\n",
    "    return:\n",
    "        分箱后的dataframe\n",
    "    \"\"\"\n",
    "    minValue = train[column].min()\n",
    "    maxValue = train[column].max()\n",
    "    bin_interval = (maxValue - minValue) / bins\n",
    "\n",
    "    def _apply_bin_func(value):\n",
    "        bin_num = math.floor((value - minValue) / bin_interval)\n",
    "        if bin_num < 8:\n",
    "            bin_left = minValue + bin_num * bin_interval\n",
    "            bin_right = minValue + (bin_num+1) * bin_interval\n",
    "\n",
    "            bin_name = f\"{column}_{bin_num}_{bin_left}_{bin_right}\"\n",
    "        else:\n",
    "            bin_left = maxValue - bin_interval\n",
    "\n",
    "            bin_name = f\"{column}_{7}_{bin_left}_{maxValue}\"\n",
    "\n",
    "        return bin_name\n",
    "        \n",
    "\n",
    "    train[f\"{column}_equal_interval_bins\"] = train[f\"{column}\"].apply(lambda x: \"NAN\" if pd.isna(x) else _apply_bin_func(x))\n",
    "                               \n",
    "    return train"
   ]
  },
  {
   "cell_type": "code",
   "execution_count": 31,
   "metadata": {},
   "outputs": [
    {
     "data": {
      "text/plain": [
       "id_02_0_1.0_124950.25         70006\n",
       "id_02_1_124950.25_249899.5    39958\n",
       "id_02_2_249899.5_374848.75    15841\n",
       "id_02_3_374848.75_499798.0     7559\n",
       "id_02_4_499798.0_624747.25     3975\n",
       "NAN                            3361\n",
       "id_02_5_624747.25_749696.5     1886\n",
       "id_02_6_749696.5_874645.75     1056\n",
       "id_02_7_874645.75_999595.0      591\n",
       "Name: id_02_equal_interval_bins, dtype: int64"
      ]
     },
     "execution_count": 31,
     "metadata": {},
     "output_type": "execute_result"
    }
   ],
   "source": [
    "train = get_equal_interval_bins(\"id_02\", train)\n",
    "train[\"id_02_equal_interval_bins\"].value_counts()"
   ]
  },
  {
   "cell_type": "code",
   "execution_count": 32,
   "metadata": {},
   "outputs": [],
   "source": [
    "train, id_02_equal_interval_woe_map, id_02_equal_interval_iv_map = get_col_woe_and_iv_score(\"id_02_equal_interval_bins\", train)"
   ]
  },
  {
   "cell_type": "code",
   "execution_count": 33,
   "metadata": {},
   "outputs": [
    {
     "data": {
      "text/plain": [
       "[('NAN', -1.0633514027956514),\n",
       " ('id_02_0_1.0_124950.25', -0.15145017071321587),\n",
       " ('id_02_1_124950.25_249899.5', 0.0671116684769757),\n",
       " ('id_02_6_749696.5_874645.75', 0.13759577905134002),\n",
       " ('id_02_2_249899.5_374848.75', 0.19975269586234257),\n",
       " ('id_02_5_624747.25_749696.5', 0.3202828029856759),\n",
       " ('id_02_3_374848.75_499798.0', 0.34458205789659724),\n",
       " ('id_02_4_499798.0_624747.25', 0.37706343676468057),\n",
       " ('id_02_7_874645.75_999595.0', 0.5944386748745565)]"
      ]
     },
     "execution_count": 33,
     "metadata": {},
     "output_type": "execute_result"
    },
    {
     "data": {
      "text/plain": [
       "[('id_02_6_749696.5_874645.75', 0.0001469035821658984),\n",
       " ('id_02_1_124950.25_249899.5', 0.0012836026534191714),\n",
       " ('id_02_5_624747.25_749696.5', 0.0015355674481176166),\n",
       " ('id_02_7_874645.75_999595.0', 0.001859372008841442),\n",
       " ('id_02_4_499798.0_624747.25', 0.0045942552802985),\n",
       " ('id_02_2_249899.5_374848.75', 0.004767936695091916),\n",
       " ('id_02_3_374848.75_499798.0', 0.007197106580208303),\n",
       " ('id_02_0_1.0_124950.25', 0.01044610119123453),\n",
       " ('NAN', 0.01710135677628283)]"
      ]
     },
     "execution_count": 33,
     "metadata": {},
     "output_type": "execute_result"
    }
   ],
   "source": [
    "sorted(id_02_equal_interval_bins_woe_map.items(),key=lambda x:x[1])\n",
    "sorted(id_02_equal_interval_iv_map.items(),key=lambda x:x[1])"
   ]
  },
  {
   "cell_type": "code",
   "execution_count": 34,
   "metadata": {},
   "outputs": [
    {
     "data": {
      "text/plain": [
       "0.0489322022156602"
      ]
     },
     "execution_count": 34,
     "metadata": {},
     "output_type": "execute_result"
    }
   ],
   "source": [
    "sum(id_02_equal_interval_iv_map.values())"
   ]
  },
  {
   "cell_type": "markdown",
   "metadata": {},
   "source": [
    "- 等频分箱"
   ]
  },
  {
   "cell_type": "code",
   "execution_count": 35,
   "metadata": {},
   "outputs": [
    {
     "data": {
      "text/plain": [
       " NaN     77909\n",
       " 0.0     63903\n",
       " 1.0       863\n",
       " 3.0       668\n",
       " 2.0       421\n",
       " 5.0       109\n",
       " 4.0       100\n",
       " 6.0        64\n",
       "-5.0        33\n",
       "-6.0        31\n",
       "-7.0        21\n",
       "-4.0        21\n",
       "-10.0       17\n",
       "-8.0        14\n",
       "-2.0        12\n",
       "-1.0        12\n",
       "-3.0         8\n",
       "-9.0         6\n",
       "-11.0        6\n",
       " 7.0         4\n",
       " 9.0         3\n",
       "-12.0        3\n",
       "-13.0        3\n",
       " 10.0        1\n",
       " 8.0         1\n",
       "Name: id_03, dtype: int64"
      ]
     },
     "execution_count": 35,
     "metadata": {},
     "output_type": "execute_result"
    }
   ],
   "source": [
    "train[\"id_03\"].value_counts(dropna=False)"
   ]
  },
  {
   "cell_type": "code",
   "execution_count": 36,
   "metadata": {},
   "outputs": [],
   "source": [
    "# 等频分箱\n",
    "def get_equal_frequence_bins(column:str, train:pd.DataFrame, bins=8):\n",
    "    \"\"\"等频分箱并返回结果\n",
    "\n",
    "    Args:\n",
    "        column (str): 特征列名\n",
    "        train (pd.DataFrame): 训练数据\n",
    "        bins (int, optional): 分箱数量一般采用5-10箱. Defaults to 8.\n",
    "\n",
    "    return:\n",
    "        分箱后的dataframe\n",
    "    \"\"\"\n",
    "    percentiles = np.linspace(0,1,bins+1)\n",
    "    splits = np.percentile(train[column], percentiles * 100)\n",
    "\n",
    "    def _apply_bin_func(value):\n",
    "        if pd.isna(value):\n",
    "            bin_name = \"NAN\"\n",
    "        else:\n",
    "            bin_name=''\n",
    "            for i in range(bins):\n",
    "                if splits[i] <= value < splits[i+1]:\n",
    "                    bin_name = f\"{column}_frequence_bin_{i}\"\n",
    "            if not bin_name:\n",
    "                bin_name = f\"{column}_frequence_bin_{bins-1}\"\n",
    "\n",
    "        return bin_name       \n",
    "\n",
    "    train[f\"{column}_equal_frequence_bins\"] = train[f\"{column}\"].apply(lambda x: _apply_bin_func(x))\n",
    "                               \n",
    "    return train"
   ]
  },
  {
   "cell_type": "code",
   "execution_count": 37,
   "metadata": {},
   "outputs": [],
   "source": [
    "train = get_equal_frequence_bins(\"id_03\", train)\n",
    "train, id_03_equal_frequence_woe_map, id_03_equal_frequence_iv_map = get_col_woe_and_iv_score(\"id_03_equal_frequence_bins\", train)"
   ]
  },
  {
   "cell_type": "code",
   "execution_count": 38,
   "metadata": {},
   "outputs": [
    {
     "data": {
      "text/plain": [
       "[('NAN', -0.40021597920238416), ('id_03_frequence_bin_7', 0.34397472160740106)]"
      ]
     },
     "execution_count": 38,
     "metadata": {},
     "output_type": "execute_result"
    },
    {
     "data": {
      "text/plain": [
       "[('id_03_frequence_bin_7', 0.06291017478690321), ('NAN', 0.0731962426962013)]"
      ]
     },
     "execution_count": 38,
     "metadata": {},
     "output_type": "execute_result"
    }
   ],
   "source": [
    "sorted(id_03_equal_frequence_woe_map.items(), key=lambda x : x[1])\n",
    "sorted(id_03_equal_frequence_iv_map.items(), key=lambda x : x[1])"
   ]
  },
  {
   "cell_type": "code",
   "execution_count": 48,
   "metadata": {},
   "outputs": [
    {
     "data": {
      "text/plain": [
       "0.1361064174831045"
      ]
     },
     "execution_count": 48,
     "metadata": {},
     "output_type": "execute_result"
    }
   ],
   "source": [
    "sum(id_03_equal_frequence_iv_map.values())"
   ]
  },
  {
   "cell_type": "code",
   "execution_count": 39,
   "metadata": {},
   "outputs": [
    {
     "data": {
      "text/plain": [
       "NaN    77909\n",
       "0.0    64090\n",
       "1.0     2234\n",
       "Name: id_03, dtype: int64"
      ]
     },
     "execution_count": 39,
     "metadata": {},
     "output_type": "execute_result"
    }
   ],
   "source": [
    "# qcut分箱\n",
    "train_id_03_bins = pd.qcut(train[\"id_03\"], q=5, labels=False, duplicates='drop')\n",
    "train_id_03_bins.value_counts(dropna=False)"
   ]
  },
  {
   "cell_type": "markdown",
   "metadata": {},
   "source": [
    "# 决策树规则生成"
   ]
  },
  {
   "cell_type": "code",
   "execution_count": 40,
   "metadata": {},
   "outputs": [],
   "source": [
    "from sklearn.tree import DecisionTreeClassifier"
   ]
  },
  {
   "cell_type": "code",
   "execution_count": 41,
   "metadata": {},
   "outputs": [
    {
     "data": {
      "text/html": [
       "<style>#sk-container-id-1 {color: black;background-color: white;}#sk-container-id-1 pre{padding: 0;}#sk-container-id-1 div.sk-toggleable {background-color: white;}#sk-container-id-1 label.sk-toggleable__label {cursor: pointer;display: block;width: 100%;margin-bottom: 0;padding: 0.3em;box-sizing: border-box;text-align: center;}#sk-container-id-1 label.sk-toggleable__label-arrow:before {content: \"▸\";float: left;margin-right: 0.25em;color: #696969;}#sk-container-id-1 label.sk-toggleable__label-arrow:hover:before {color: black;}#sk-container-id-1 div.sk-estimator:hover label.sk-toggleable__label-arrow:before {color: black;}#sk-container-id-1 div.sk-toggleable__content {max-height: 0;max-width: 0;overflow: hidden;text-align: left;background-color: #f0f8ff;}#sk-container-id-1 div.sk-toggleable__content pre {margin: 0.2em;color: black;border-radius: 0.25em;background-color: #f0f8ff;}#sk-container-id-1 input.sk-toggleable__control:checked~div.sk-toggleable__content {max-height: 200px;max-width: 100%;overflow: auto;}#sk-container-id-1 input.sk-toggleable__control:checked~label.sk-toggleable__label-arrow:before {content: \"▾\";}#sk-container-id-1 div.sk-estimator input.sk-toggleable__control:checked~label.sk-toggleable__label {background-color: #d4ebff;}#sk-container-id-1 div.sk-label input.sk-toggleable__control:checked~label.sk-toggleable__label {background-color: #d4ebff;}#sk-container-id-1 input.sk-hidden--visually {border: 0;clip: rect(1px 1px 1px 1px);clip: rect(1px, 1px, 1px, 1px);height: 1px;margin: -1px;overflow: hidden;padding: 0;position: absolute;width: 1px;}#sk-container-id-1 div.sk-estimator {font-family: monospace;background-color: #f0f8ff;border: 1px dotted black;border-radius: 0.25em;box-sizing: border-box;margin-bottom: 0.5em;}#sk-container-id-1 div.sk-estimator:hover {background-color: #d4ebff;}#sk-container-id-1 div.sk-parallel-item::after {content: \"\";width: 100%;border-bottom: 1px solid gray;flex-grow: 1;}#sk-container-id-1 div.sk-label:hover label.sk-toggleable__label {background-color: #d4ebff;}#sk-container-id-1 div.sk-serial::before {content: \"\";position: absolute;border-left: 1px solid gray;box-sizing: border-box;top: 0;bottom: 0;left: 50%;z-index: 0;}#sk-container-id-1 div.sk-serial {display: flex;flex-direction: column;align-items: center;background-color: white;padding-right: 0.2em;padding-left: 0.2em;position: relative;}#sk-container-id-1 div.sk-item {position: relative;z-index: 1;}#sk-container-id-1 div.sk-parallel {display: flex;align-items: stretch;justify-content: center;background-color: white;position: relative;}#sk-container-id-1 div.sk-item::before, #sk-container-id-1 div.sk-parallel-item::before {content: \"\";position: absolute;border-left: 1px solid gray;box-sizing: border-box;top: 0;bottom: 0;left: 50%;z-index: -1;}#sk-container-id-1 div.sk-parallel-item {display: flex;flex-direction: column;z-index: 1;position: relative;background-color: white;}#sk-container-id-1 div.sk-parallel-item:first-child::after {align-self: flex-end;width: 50%;}#sk-container-id-1 div.sk-parallel-item:last-child::after {align-self: flex-start;width: 50%;}#sk-container-id-1 div.sk-parallel-item:only-child::after {width: 0;}#sk-container-id-1 div.sk-dashed-wrapped {border: 1px dashed gray;margin: 0 0.4em 0.5em 0.4em;box-sizing: border-box;padding-bottom: 0.4em;background-color: white;}#sk-container-id-1 div.sk-label label {font-family: monospace;font-weight: bold;display: inline-block;line-height: 1.2em;}#sk-container-id-1 div.sk-label-container {text-align: center;}#sk-container-id-1 div.sk-container {/* jupyter's `normalize.less` sets `[hidden] { display: none; }` but bootstrap.min.css set `[hidden] { display: none !important; }` so we also need the `!important` here to be able to override the default hidden behavior on the sphinx rendered scikit-learn.org. See: https://github.com/scikit-learn/scikit-learn/issues/21755 */display: inline-block !important;position: relative;}#sk-container-id-1 div.sk-text-repr-fallback {display: none;}</style><div id=\"sk-container-id-1\" class=\"sk-top-container\"><div class=\"sk-text-repr-fallback\"><pre>DecisionTreeClassifier(max_depth=3)</pre><b>In a Jupyter environment, please rerun this cell to show the HTML representation or trust the notebook. <br />On GitHub, the HTML representation is unable to render, please try loading this page with nbviewer.org.</b></div><div class=\"sk-container\" hidden><div class=\"sk-item\"><div class=\"sk-estimator sk-toggleable\"><input class=\"sk-toggleable__control sk-hidden--visually\" id=\"sk-estimator-id-1\" type=\"checkbox\" checked><label for=\"sk-estimator-id-1\" class=\"sk-toggleable__label sk-toggleable__label-arrow\">DecisionTreeClassifier</label><div class=\"sk-toggleable__content\"><pre>DecisionTreeClassifier(max_depth=3)</pre></div></div></div></div></div>"
      ],
      "text/plain": [
       "DecisionTreeClassifier(max_depth=3)"
      ]
     },
     "execution_count": 41,
     "metadata": {},
     "output_type": "execute_result"
    }
   ],
   "source": [
    "clf = DecisionTreeClassifier(max_depth=3)\n",
    "X = train[[\"id_01_customize_bins_woe\", \"id_02_equal_interval_bins_woe\", \"id_03_equal_frequence_bins_woe\"]]\n",
    "y = train[\"isFraud\"]\n",
    "\n",
    "clf.fit(X,y)"
   ]
  },
  {
   "cell_type": "code",
   "execution_count": 42,
   "metadata": {},
   "outputs": [
    {
     "data": {
      "image/svg+xml": [
       "<?xml version=\"1.0\" encoding=\"UTF-8\" standalone=\"no\"?>\n",
       "<!DOCTYPE svg PUBLIC \"-//W3C//DTD SVG 1.1//EN\"\n",
       " \"http://www.w3.org/Graphics/SVG/1.1/DTD/svg11.dtd\">\n",
       "<!-- Generated by graphviz version 2.50.0 (0)\n",
       " -->\n",
       "<!-- Title: Tree Pages: 1 -->\n",
       "<svg width=\"1277pt\" height=\"433pt\"\n",
       " viewBox=\"0.00 0.00 1277.00 433.00\" xmlns=\"http://www.w3.org/2000/svg\" xmlns:xlink=\"http://www.w3.org/1999/xlink\">\n",
       "<g id=\"graph0\" class=\"graph\" transform=\"scale(1 1) rotate(0) translate(4 429)\">\n",
       "<title>Tree</title>\n",
       "<polygon fill=\"white\" stroke=\"transparent\" points=\"-4,4 -4,-429 1273,-429 1273,4 -4,4\"/>\n",
       "<!-- 0 -->\n",
       "<g id=\"node1\" class=\"node\">\n",
       "<title>0</title>\n",
       "<path fill=\"#e78c4a\" stroke=\"black\" d=\"M776,-425C776,-425 525,-425 525,-425 519,-425 513,-419 513,-413 513,-413 513,-354 513,-354 513,-348 519,-342 525,-342 525,-342 776,-342 776,-342 782,-342 788,-348 788,-354 788,-354 788,-413 788,-413 788,-419 782,-425 776,-425\"/>\n",
       "<text text-anchor=\"start\" x=\"521\" y=\"-409.8\" font-family=\"Helvetica,sans-Serif\" font-size=\"14.00\">id_03_equal_frequence_bins_woe ≤ &#45;0.028</text>\n",
       "<text text-anchor=\"start\" x=\"615\" y=\"-394.8\" font-family=\"Helvetica,sans-Serif\" font-size=\"14.00\">gini = 0.145</text>\n",
       "<text text-anchor=\"start\" x=\"594.5\" y=\"-379.8\" font-family=\"Helvetica,sans-Serif\" font-size=\"14.00\">samples = 144233</text>\n",
       "<text text-anchor=\"start\" x=\"577.5\" y=\"-364.8\" font-family=\"Helvetica,sans-Serif\" font-size=\"14.00\">value = [132915, 11318]</text>\n",
       "<text text-anchor=\"start\" x=\"612\" y=\"-349.8\" font-family=\"Helvetica,sans-Serif\" font-size=\"14.00\">class = good</text>\n",
       "</g>\n",
       "<!-- 1 -->\n",
       "<g id=\"node2\" class=\"node\">\n",
       "<title>1</title>\n",
       "<path fill=\"#e68844\" stroke=\"black\" d=\"M617.5,-306C617.5,-306 409.5,-306 409.5,-306 403.5,-306 397.5,-300 397.5,-294 397.5,-294 397.5,-235 397.5,-235 397.5,-229 403.5,-223 409.5,-223 409.5,-223 617.5,-223 617.5,-223 623.5,-223 629.5,-229 629.5,-235 629.5,-235 629.5,-294 629.5,-294 629.5,-300 623.5,-306 617.5,-306\"/>\n",
       "<text text-anchor=\"start\" x=\"405.5\" y=\"-290.8\" font-family=\"Helvetica,sans-Serif\" font-size=\"14.00\">id_01_customize_bins_woe ≤ 0.206</text>\n",
       "<text text-anchor=\"start\" x=\"478\" y=\"-275.8\" font-family=\"Helvetica,sans-Serif\" font-size=\"14.00\">gini = 0.102</text>\n",
       "<text text-anchor=\"start\" x=\"461\" y=\"-260.8\" font-family=\"Helvetica,sans-Serif\" font-size=\"14.00\">samples = 77909</text>\n",
       "<text text-anchor=\"start\" x=\"448\" y=\"-245.8\" font-family=\"Helvetica,sans-Serif\" font-size=\"14.00\">value = [73703, 4206]</text>\n",
       "<text text-anchor=\"start\" x=\"475\" y=\"-230.8\" font-family=\"Helvetica,sans-Serif\" font-size=\"14.00\">class = good</text>\n",
       "</g>\n",
       "<!-- 0&#45;&gt;1 -->\n",
       "<g id=\"edge1\" class=\"edge\">\n",
       "<title>0&#45;&gt;1</title>\n",
       "<path fill=\"none\" stroke=\"black\" d=\"M602.97,-341.91C591.92,-332.47 580.06,-322.34 568.71,-312.65\"/>\n",
       "<polygon fill=\"black\" stroke=\"black\" points=\"570.82,-309.85 560.95,-306.02 566.28,-315.18 570.82,-309.85\"/>\n",
       "<text text-anchor=\"middle\" x=\"562.91\" y=\"-327.24\" font-family=\"Helvetica,sans-Serif\" font-size=\"14.00\">True</text>\n",
       "</g>\n",
       "<!-- 8 -->\n",
       "<g id=\"node9\" class=\"node\">\n",
       "<title>8</title>\n",
       "<path fill=\"#e89051\" stroke=\"black\" d=\"M892.5,-306C892.5,-306 684.5,-306 684.5,-306 678.5,-306 672.5,-300 672.5,-294 672.5,-294 672.5,-235 672.5,-235 672.5,-229 678.5,-223 684.5,-223 684.5,-223 892.5,-223 892.5,-223 898.5,-223 904.5,-229 904.5,-235 904.5,-235 904.5,-294 904.5,-294 904.5,-300 898.5,-306 892.5,-306\"/>\n",
       "<text text-anchor=\"start\" x=\"680.5\" y=\"-290.8\" font-family=\"Helvetica,sans-Serif\" font-size=\"14.00\">id_01_customize_bins_woe ≤ 0.206</text>\n",
       "<text text-anchor=\"start\" x=\"753\" y=\"-275.8\" font-family=\"Helvetica,sans-Serif\" font-size=\"14.00\">gini = 0.191</text>\n",
       "<text text-anchor=\"start\" x=\"736\" y=\"-260.8\" font-family=\"Helvetica,sans-Serif\" font-size=\"14.00\">samples = 66324</text>\n",
       "<text text-anchor=\"start\" x=\"723\" y=\"-245.8\" font-family=\"Helvetica,sans-Serif\" font-size=\"14.00\">value = [59212, 7112]</text>\n",
       "<text text-anchor=\"start\" x=\"750\" y=\"-230.8\" font-family=\"Helvetica,sans-Serif\" font-size=\"14.00\">class = good</text>\n",
       "</g>\n",
       "<!-- 0&#45;&gt;8 -->\n",
       "<g id=\"edge8\" class=\"edge\">\n",
       "<title>0&#45;&gt;8</title>\n",
       "<path fill=\"none\" stroke=\"black\" d=\"M698.38,-341.91C709.51,-332.47 721.45,-322.34 732.89,-312.65\"/>\n",
       "<polygon fill=\"black\" stroke=\"black\" points=\"735.34,-315.16 740.71,-306.02 730.82,-309.82 735.34,-315.16\"/>\n",
       "<text text-anchor=\"middle\" x=\"738.65\" y=\"-327.24\" font-family=\"Helvetica,sans-Serif\" font-size=\"14.00\">False</text>\n",
       "</g>\n",
       "<!-- 2 -->\n",
       "<g id=\"node3\" class=\"node\">\n",
       "<title>2</title>\n",
       "<path fill=\"#e68742\" stroke=\"black\" d=\"M354,-187C354,-187 119,-187 119,-187 113,-187 107,-181 107,-175 107,-175 107,-116 107,-116 107,-110 113,-104 119,-104 119,-104 354,-104 354,-104 360,-104 366,-110 366,-116 366,-116 366,-175 366,-175 366,-181 360,-187 354,-187\"/>\n",
       "<text text-anchor=\"start\" x=\"115\" y=\"-171.8\" font-family=\"Helvetica,sans-Serif\" font-size=\"14.00\">id_02_equal_interval_bins_woe ≤ &#45;0.042</text>\n",
       "<text text-anchor=\"start\" x=\"201\" y=\"-156.8\" font-family=\"Helvetica,sans-Serif\" font-size=\"14.00\">gini = 0.082</text>\n",
       "<text text-anchor=\"start\" x=\"184\" y=\"-141.8\" font-family=\"Helvetica,sans-Serif\" font-size=\"14.00\">samples = 57292</text>\n",
       "<text text-anchor=\"start\" x=\"171\" y=\"-126.8\" font-family=\"Helvetica,sans-Serif\" font-size=\"14.00\">value = [54826, 2466]</text>\n",
       "<text text-anchor=\"start\" x=\"198\" y=\"-111.8\" font-family=\"Helvetica,sans-Serif\" font-size=\"14.00\">class = good</text>\n",
       "</g>\n",
       "<!-- 1&#45;&gt;2 -->\n",
       "<g id=\"edge2\" class=\"edge\">\n",
       "<title>1&#45;&gt;2</title>\n",
       "<path fill=\"none\" stroke=\"black\" d=\"M417.4,-222.91C393.01,-212.61 366.68,-201.49 341.86,-191\"/>\n",
       "<polygon fill=\"black\" stroke=\"black\" points=\"343.01,-187.69 332.43,-187.02 340.28,-194.14 343.01,-187.69\"/>\n",
       "</g>\n",
       "<!-- 5 -->\n",
       "<g id=\"node6\" class=\"node\">\n",
       "<title>5</title>\n",
       "<path fill=\"#e78d4b\" stroke=\"black\" d=\"M631,-187C631,-187 396,-187 396,-187 390,-187 384,-181 384,-175 384,-175 384,-116 384,-116 384,-110 390,-104 396,-104 396,-104 631,-104 631,-104 637,-104 643,-110 643,-116 643,-116 643,-175 643,-175 643,-181 637,-187 631,-187\"/>\n",
       "<text text-anchor=\"start\" x=\"392\" y=\"-171.8\" font-family=\"Helvetica,sans-Serif\" font-size=\"14.00\">id_02_equal_interval_bins_woe ≤ &#45;0.607</text>\n",
       "<text text-anchor=\"start\" x=\"478\" y=\"-156.8\" font-family=\"Helvetica,sans-Serif\" font-size=\"14.00\">gini = 0.155</text>\n",
       "<text text-anchor=\"start\" x=\"461\" y=\"-141.8\" font-family=\"Helvetica,sans-Serif\" font-size=\"14.00\">samples = 20617</text>\n",
       "<text text-anchor=\"start\" x=\"448\" y=\"-126.8\" font-family=\"Helvetica,sans-Serif\" font-size=\"14.00\">value = [18877, 1740]</text>\n",
       "<text text-anchor=\"start\" x=\"475\" y=\"-111.8\" font-family=\"Helvetica,sans-Serif\" font-size=\"14.00\">class = good</text>\n",
       "</g>\n",
       "<!-- 1&#45;&gt;5 -->\n",
       "<g id=\"edge5\" class=\"edge\">\n",
       "<title>1&#45;&gt;5</title>\n",
       "<path fill=\"none\" stroke=\"black\" d=\"M513.5,-222.91C513.5,-214.65 513.5,-205.86 513.5,-197.3\"/>\n",
       "<polygon fill=\"black\" stroke=\"black\" points=\"517,-197.02 513.5,-187.02 510,-197.02 517,-197.02\"/>\n",
       "</g>\n",
       "<!-- 3 -->\n",
       "<g id=\"node4\" class=\"node\">\n",
       "<title>3</title>\n",
       "<path fill=\"#e68641\" stroke=\"black\" d=\"M135,-68C135,-68 12,-68 12,-68 6,-68 0,-62 0,-56 0,-56 0,-12 0,-12 0,-6 6,0 12,0 12,0 135,0 135,0 141,0 147,-6 147,-12 147,-12 147,-56 147,-56 147,-62 141,-68 135,-68\"/>\n",
       "<text text-anchor=\"start\" x=\"38\" y=\"-52.8\" font-family=\"Helvetica,sans-Serif\" font-size=\"14.00\">gini = 0.075</text>\n",
       "<text text-anchor=\"start\" x=\"21\" y=\"-37.8\" font-family=\"Helvetica,sans-Serif\" font-size=\"14.00\">samples = 27173</text>\n",
       "<text text-anchor=\"start\" x=\"8\" y=\"-22.8\" font-family=\"Helvetica,sans-Serif\" font-size=\"14.00\">value = [26106, 1067]</text>\n",
       "<text text-anchor=\"start\" x=\"35\" y=\"-7.8\" font-family=\"Helvetica,sans-Serif\" font-size=\"14.00\">class = good</text>\n",
       "</g>\n",
       "<!-- 2&#45;&gt;3 -->\n",
       "<g id=\"edge3\" class=\"edge\">\n",
       "<title>2&#45;&gt;3</title>\n",
       "<path fill=\"none\" stroke=\"black\" d=\"M175.8,-103.73C161.2,-93.92 145.64,-83.46 131.18,-73.75\"/>\n",
       "<polygon fill=\"black\" stroke=\"black\" points=\"133.06,-70.8 122.81,-68.13 129.16,-76.61 133.06,-70.8\"/>\n",
       "</g>\n",
       "<!-- 4 -->\n",
       "<g id=\"node5\" class=\"node\">\n",
       "<title>4</title>\n",
       "<path fill=\"#e68743\" stroke=\"black\" d=\"M300,-68C300,-68 177,-68 177,-68 171,-68 165,-62 165,-56 165,-56 165,-12 165,-12 165,-6 171,0 177,0 177,0 300,0 300,0 306,0 312,-6 312,-12 312,-12 312,-56 312,-56 312,-62 306,-68 300,-68\"/>\n",
       "<text text-anchor=\"start\" x=\"203\" y=\"-52.8\" font-family=\"Helvetica,sans-Serif\" font-size=\"14.00\">gini = 0.089</text>\n",
       "<text text-anchor=\"start\" x=\"186\" y=\"-37.8\" font-family=\"Helvetica,sans-Serif\" font-size=\"14.00\">samples = 30119</text>\n",
       "<text text-anchor=\"start\" x=\"173\" y=\"-22.8\" font-family=\"Helvetica,sans-Serif\" font-size=\"14.00\">value = [28720, 1399]</text>\n",
       "<text text-anchor=\"start\" x=\"200\" y=\"-7.8\" font-family=\"Helvetica,sans-Serif\" font-size=\"14.00\">class = good</text>\n",
       "</g>\n",
       "<!-- 2&#45;&gt;4 -->\n",
       "<g id=\"edge4\" class=\"edge\">\n",
       "<title>2&#45;&gt;4</title>\n",
       "<path fill=\"none\" stroke=\"black\" d=\"M237.24,-103.73C237.39,-95.52 237.55,-86.86 237.7,-78.56\"/>\n",
       "<polygon fill=\"black\" stroke=\"black\" points=\"241.21,-78.36 237.89,-68.3 234.21,-78.23 241.21,-78.36\"/>\n",
       "</g>\n",
       "<!-- 6 -->\n",
       "<g id=\"node7\" class=\"node\">\n",
       "<title>6</title>\n",
       "<path fill=\"#e6853f\" stroke=\"black\" d=\"M457,-68C457,-68 356,-68 356,-68 350,-68 344,-62 344,-56 344,-56 344,-12 344,-12 344,-6 350,0 356,0 356,0 457,0 457,0 463,0 469,-6 469,-12 469,-12 469,-56 469,-56 469,-62 463,-68 457,-68\"/>\n",
       "<text text-anchor=\"start\" x=\"371\" y=\"-52.8\" font-family=\"Helvetica,sans-Serif\" font-size=\"14.00\">gini = 0.056</text>\n",
       "<text text-anchor=\"start\" x=\"358\" y=\"-37.8\" font-family=\"Helvetica,sans-Serif\" font-size=\"14.00\">samples = 3350</text>\n",
       "<text text-anchor=\"start\" x=\"352\" y=\"-22.8\" font-family=\"Helvetica,sans-Serif\" font-size=\"14.00\">value = [3254, 96]</text>\n",
       "<text text-anchor=\"start\" x=\"368\" y=\"-7.8\" font-family=\"Helvetica,sans-Serif\" font-size=\"14.00\">class = good</text>\n",
       "</g>\n",
       "<!-- 5&#45;&gt;6 -->\n",
       "<g id=\"edge6\" class=\"edge\">\n",
       "<title>5&#45;&gt;6</title>\n",
       "<path fill=\"none\" stroke=\"black\" d=\"M473.66,-103.73C464.66,-94.51 455.1,-84.74 446.11,-75.53\"/>\n",
       "<polygon fill=\"black\" stroke=\"black\" points=\"448.53,-73.01 439.04,-68.3 443.53,-77.9 448.53,-73.01\"/>\n",
       "</g>\n",
       "<!-- 7 -->\n",
       "<g id=\"node8\" class=\"node\">\n",
       "<title>7</title>\n",
       "<path fill=\"#e88e4e\" stroke=\"black\" d=\"M622,-68C622,-68 499,-68 499,-68 493,-68 487,-62 487,-56 487,-56 487,-12 487,-12 487,-6 493,0 499,0 499,0 622,0 622,0 628,0 634,-6 634,-12 634,-12 634,-56 634,-56 634,-62 628,-68 622,-68\"/>\n",
       "<text text-anchor=\"start\" x=\"525\" y=\"-52.8\" font-family=\"Helvetica,sans-Serif\" font-size=\"14.00\">gini = 0.172</text>\n",
       "<text text-anchor=\"start\" x=\"508\" y=\"-37.8\" font-family=\"Helvetica,sans-Serif\" font-size=\"14.00\">samples = 17267</text>\n",
       "<text text-anchor=\"start\" x=\"495\" y=\"-22.8\" font-family=\"Helvetica,sans-Serif\" font-size=\"14.00\">value = [15623, 1644]</text>\n",
       "<text text-anchor=\"start\" x=\"522\" y=\"-7.8\" font-family=\"Helvetica,sans-Serif\" font-size=\"14.00\">class = good</text>\n",
       "</g>\n",
       "<!-- 5&#45;&gt;7 -->\n",
       "<g id=\"edge7\" class=\"edge\">\n",
       "<title>5&#45;&gt;7</title>\n",
       "<path fill=\"none\" stroke=\"black\" d=\"M531,-103.73C534.64,-95.24 538.49,-86.28 542.16,-77.73\"/>\n",
       "<polygon fill=\"black\" stroke=\"black\" points=\"545.48,-78.87 546.21,-68.3 539.05,-76.11 545.48,-78.87\"/>\n",
       "</g>\n",
       "<!-- 9 -->\n",
       "<g id=\"node10\" class=\"node\">\n",
       "<title>9</title>\n",
       "<path fill=\"#e88d4c\" stroke=\"black\" d=\"M903.5,-187C903.5,-187 673.5,-187 673.5,-187 667.5,-187 661.5,-181 661.5,-175 661.5,-175 661.5,-116 661.5,-116 661.5,-110 667.5,-104 673.5,-104 673.5,-104 903.5,-104 903.5,-104 909.5,-104 915.5,-110 915.5,-116 915.5,-116 915.5,-175 915.5,-175 915.5,-181 909.5,-187 903.5,-187\"/>\n",
       "<text text-anchor=\"start\" x=\"669.5\" y=\"-171.8\" font-family=\"Helvetica,sans-Serif\" font-size=\"14.00\">id_02_equal_interval_bins_woe ≤ 0.102</text>\n",
       "<text text-anchor=\"start\" x=\"753\" y=\"-156.8\" font-family=\"Helvetica,sans-Serif\" font-size=\"14.00\">gini = 0.161</text>\n",
       "<text text-anchor=\"start\" x=\"736\" y=\"-141.8\" font-family=\"Helvetica,sans-Serif\" font-size=\"14.00\">samples = 58725</text>\n",
       "<text text-anchor=\"start\" x=\"723\" y=\"-126.8\" font-family=\"Helvetica,sans-Serif\" font-size=\"14.00\">value = [53545, 5180]</text>\n",
       "<text text-anchor=\"start\" x=\"750\" y=\"-111.8\" font-family=\"Helvetica,sans-Serif\" font-size=\"14.00\">class = good</text>\n",
       "</g>\n",
       "<!-- 8&#45;&gt;9 -->\n",
       "<g id=\"edge9\" class=\"edge\">\n",
       "<title>8&#45;&gt;9</title>\n",
       "<path fill=\"none\" stroke=\"black\" d=\"M788.5,-222.91C788.5,-214.65 788.5,-205.86 788.5,-197.3\"/>\n",
       "<polygon fill=\"black\" stroke=\"black\" points=\"792,-197.02 788.5,-187.02 785,-197.02 792,-197.02\"/>\n",
       "</g>\n",
       "<!-- 12 -->\n",
       "<g id=\"node13\" class=\"node\">\n",
       "<title>12</title>\n",
       "<path fill=\"#eeac7d\" stroke=\"black\" d=\"M1169,-187C1169,-187 946,-187 946,-187 940,-187 934,-181 934,-175 934,-175 934,-116 934,-116 934,-110 940,-104 946,-104 946,-104 1169,-104 1169,-104 1175,-104 1181,-110 1181,-116 1181,-116 1181,-175 1181,-175 1181,-181 1175,-187 1169,-187\"/>\n",
       "<text text-anchor=\"start\" x=\"942\" y=\"-171.8\" font-family=\"Helvetica,sans-Serif\" font-size=\"14.00\">id_02_equal_interval_bins_woe ≤ 0.26</text>\n",
       "<text text-anchor=\"start\" x=\"1022\" y=\"-156.8\" font-family=\"Helvetica,sans-Serif\" font-size=\"14.00\">gini = 0.379</text>\n",
       "<text text-anchor=\"start\" x=\"1009\" y=\"-141.8\" font-family=\"Helvetica,sans-Serif\" font-size=\"14.00\">samples = 7599</text>\n",
       "<text text-anchor=\"start\" x=\"995.5\" y=\"-126.8\" font-family=\"Helvetica,sans-Serif\" font-size=\"14.00\">value = [5667, 1932]</text>\n",
       "<text text-anchor=\"start\" x=\"1019\" y=\"-111.8\" font-family=\"Helvetica,sans-Serif\" font-size=\"14.00\">class = good</text>\n",
       "</g>\n",
       "<!-- 8&#45;&gt;12 -->\n",
       "<g id=\"edge12\" class=\"edge\">\n",
       "<title>8&#45;&gt;12</title>\n",
       "<path fill=\"none\" stroke=\"black\" d=\"M881.83,-222.91C905.41,-212.65 930.85,-201.59 954.86,-191.14\"/>\n",
       "<polygon fill=\"black\" stroke=\"black\" points=\"956.56,-194.22 964.34,-187.02 953.77,-187.8 956.56,-194.22\"/>\n",
       "</g>\n",
       "<!-- 10 -->\n",
       "<g id=\"node11\" class=\"node\">\n",
       "<title>10</title>\n",
       "<path fill=\"#e78b49\" stroke=\"black\" d=\"M794,-68C794,-68 671,-68 671,-68 665,-68 659,-62 659,-56 659,-56 659,-12 659,-12 659,-6 665,0 671,0 671,0 794,0 794,0 800,0 806,-6 806,-12 806,-12 806,-56 806,-56 806,-62 800,-68 794,-68\"/>\n",
       "<text text-anchor=\"start\" x=\"697\" y=\"-52.8\" font-family=\"Helvetica,sans-Serif\" font-size=\"14.00\">gini = 0.141</text>\n",
       "<text text-anchor=\"start\" x=\"680\" y=\"-37.8\" font-family=\"Helvetica,sans-Serif\" font-size=\"14.00\">samples = 48777</text>\n",
       "<text text-anchor=\"start\" x=\"667\" y=\"-22.8\" font-family=\"Helvetica,sans-Serif\" font-size=\"14.00\">value = [45051, 3726]</text>\n",
       "<text text-anchor=\"start\" x=\"694\" y=\"-7.8\" font-family=\"Helvetica,sans-Serif\" font-size=\"14.00\">class = good</text>\n",
       "</g>\n",
       "<!-- 9&#45;&gt;10 -->\n",
       "<g id=\"edge10\" class=\"edge\">\n",
       "<title>9&#45;&gt;10</title>\n",
       "<path fill=\"none\" stroke=\"black\" d=\"M767.65,-103.73C763.26,-95.15 758.63,-86.09 754.21,-77.46\"/>\n",
       "<polygon fill=\"black\" stroke=\"black\" points=\"757.2,-75.61 749.53,-68.3 750.97,-78.8 757.2,-75.61\"/>\n",
       "</g>\n",
       "<!-- 11 -->\n",
       "<g id=\"node12\" class=\"node\">\n",
       "<title>11</title>\n",
       "<path fill=\"#e9975b\" stroke=\"black\" d=\"M952.5,-68C952.5,-68 836.5,-68 836.5,-68 830.5,-68 824.5,-62 824.5,-56 824.5,-56 824.5,-12 824.5,-12 824.5,-6 830.5,0 836.5,0 836.5,0 952.5,0 952.5,0 958.5,0 964.5,-6 964.5,-12 964.5,-12 964.5,-56 964.5,-56 964.5,-62 958.5,-68 952.5,-68\"/>\n",
       "<text text-anchor=\"start\" x=\"862.5\" y=\"-52.8\" font-family=\"Helvetica,sans-Serif\" font-size=\"14.00\">gini = 0.25</text>\n",
       "<text text-anchor=\"start\" x=\"846\" y=\"-37.8\" font-family=\"Helvetica,sans-Serif\" font-size=\"14.00\">samples = 9948</text>\n",
       "<text text-anchor=\"start\" x=\"832.5\" y=\"-22.8\" font-family=\"Helvetica,sans-Serif\" font-size=\"14.00\">value = [8494, 1454]</text>\n",
       "<text text-anchor=\"start\" x=\"856\" y=\"-7.8\" font-family=\"Helvetica,sans-Serif\" font-size=\"14.00\">class = good</text>\n",
       "</g>\n",
       "<!-- 9&#45;&gt;11 -->\n",
       "<g id=\"edge11\" class=\"edge\">\n",
       "<title>9&#45;&gt;11</title>\n",
       "<path fill=\"none\" stroke=\"black\" d=\"M827.97,-103.73C836.89,-94.51 846.35,-84.74 855.26,-75.53\"/>\n",
       "<polygon fill=\"black\" stroke=\"black\" points=\"857.82,-77.92 862.26,-68.3 852.79,-73.05 857.82,-77.92\"/>\n",
       "</g>\n",
       "<!-- 13 -->\n",
       "<g id=\"node14\" class=\"node\">\n",
       "<title>13</title>\n",
       "<path fill=\"#edaa79\" stroke=\"black\" d=\"M1113.5,-68C1113.5,-68 997.5,-68 997.5,-68 991.5,-68 985.5,-62 985.5,-56 985.5,-56 985.5,-12 985.5,-12 985.5,-6 991.5,0 997.5,0 997.5,0 1113.5,0 1113.5,0 1119.5,0 1125.5,-6 1125.5,-12 1125.5,-12 1125.5,-56 1125.5,-56 1125.5,-62 1119.5,-68 1113.5,-68\"/>\n",
       "<text text-anchor=\"start\" x=\"1020\" y=\"-52.8\" font-family=\"Helvetica,sans-Serif\" font-size=\"14.00\">gini = 0.369</text>\n",
       "<text text-anchor=\"start\" x=\"1007\" y=\"-37.8\" font-family=\"Helvetica,sans-Serif\" font-size=\"14.00\">samples = 6673</text>\n",
       "<text text-anchor=\"start\" x=\"993.5\" y=\"-22.8\" font-family=\"Helvetica,sans-Serif\" font-size=\"14.00\">value = [5047, 1626]</text>\n",
       "<text text-anchor=\"start\" x=\"1017\" y=\"-7.8\" font-family=\"Helvetica,sans-Serif\" font-size=\"14.00\">class = good</text>\n",
       "</g>\n",
       "<!-- 12&#45;&gt;13 -->\n",
       "<g id=\"edge13\" class=\"edge\">\n",
       "<title>12&#45;&gt;13</title>\n",
       "<path fill=\"none\" stroke=\"black\" d=\"M1056.76,-103.73C1056.61,-95.52 1056.45,-86.86 1056.3,-78.56\"/>\n",
       "<polygon fill=\"black\" stroke=\"black\" points=\"1059.79,-78.23 1056.11,-68.3 1052.79,-78.36 1059.79,-78.23\"/>\n",
       "</g>\n",
       "<!-- 14 -->\n",
       "<g id=\"node15\" class=\"node\">\n",
       "<title>14</title>\n",
       "<path fill=\"#f2bf9b\" stroke=\"black\" d=\"M1257,-68C1257,-68 1156,-68 1156,-68 1150,-68 1144,-62 1144,-56 1144,-56 1144,-12 1144,-12 1144,-6 1150,0 1156,0 1156,0 1257,0 1257,0 1263,0 1269,-6 1269,-12 1269,-12 1269,-56 1269,-56 1269,-62 1263,-68 1257,-68\"/>\n",
       "<text text-anchor=\"start\" x=\"1171\" y=\"-52.8\" font-family=\"Helvetica,sans-Serif\" font-size=\"14.00\">gini = 0.443</text>\n",
       "<text text-anchor=\"start\" x=\"1161.5\" y=\"-37.8\" font-family=\"Helvetica,sans-Serif\" font-size=\"14.00\">samples = 926</text>\n",
       "<text text-anchor=\"start\" x=\"1152\" y=\"-22.8\" font-family=\"Helvetica,sans-Serif\" font-size=\"14.00\">value = [620, 306]</text>\n",
       "<text text-anchor=\"start\" x=\"1168\" y=\"-7.8\" font-family=\"Helvetica,sans-Serif\" font-size=\"14.00\">class = good</text>\n",
       "</g>\n",
       "<!-- 12&#45;&gt;14 -->\n",
       "<g id=\"edge14\" class=\"edge\">\n",
       "<title>12&#45;&gt;14</title>\n",
       "<path fill=\"none\" stroke=\"black\" d=\"M1112.98,-103.73C1126.01,-94.15 1139.88,-83.96 1152.83,-74.44\"/>\n",
       "<polygon fill=\"black\" stroke=\"black\" points=\"1155.2,-77.04 1161.19,-68.3 1151.06,-71.4 1155.2,-77.04\"/>\n",
       "</g>\n",
       "</g>\n",
       "</svg>\n"
      ],
      "text/plain": [
       "<graphviz.sources.Source at 0x281f4bdf0>"
      ]
     },
     "execution_count": 42,
     "metadata": {},
     "output_type": "execute_result"
    }
   ],
   "source": [
    "import graphviz\n",
    "from sklearn import tree\n",
    "dot_data = tree.export_graphviz(\n",
    "            clf,\n",
    "            out_file=None,\n",
    "            feature_names=X.columns,\n",
    "            class_names=[\"good\", \"bad\"],\n",
    "            filled=True, rounded=True,\n",
    "            special_characters=True\n",
    "            )\n",
    "graph = graphviz.Source(dot_data)\n",
    "graph"
   ]
  },
  {
   "cell_type": "code",
   "execution_count": 43,
   "metadata": {},
   "outputs": [],
   "source": [
    "from sklearn.tree import _tree\n",
    "\n",
    "def DT_Get_Rules(clf, X):\n",
    "    n_nodes = clf.tree_.node_count # 树的节点数\n",
    "    children_left = clf.tree_.children_left # 树节点的左孩子\n",
    "    children_right = clf.tree_.children_right # 树节点的右孩子\n",
    "    feature = clf.tree_.feature # 节点的特征索引\n",
    "    threshold = clf.tree_.threshold # 节点的阈值\n",
    "    value = clf.tree_.value\n",
    "\n",
    "    node_depth = np.zeros(shape=n_nodes, dtype=np.int64)\n",
    "    is_leaves = np.zeros(shape=n_nodes, dtype=bool)\n",
    "    stack = [(0,0)] # (id, depth)\n",
    "\n",
    "    while len(stack)>0:\n",
    "        node_id, depth = stack.pop()\n",
    "        node_depth[node_id] = depth\n",
    "\n",
    "        is_spilt_node = children_left[node_id] != children_right[node_id] # 判断是否为中间结点，当左右节点都为None的时候为叶子结点，正常结点的左右孩子结点不一样\n",
    "\n",
    "        if is_spilt_node:\n",
    "            stack.append((children_left[node_id], depth+1)) # 当前节点的左子树入栈\n",
    "            stack.append((children_right[node_id], depth+1)) # 当前节点的右子树入栈\n",
    "        else:\n",
    "            is_leaves[node_id] = True\n",
    "    \n",
    "    feature_name = [X.columns[i] if i != _tree.TREE_UNDEFINED else \"undefined\" for i in feature]\n",
    "    ways = []\n",
    "    depth = []\n",
    "    feat = []\n",
    "    nodes = []\n",
    "    rules = []\n",
    "    for i in range(n_nodes):\n",
    "        if is_leaves[i]:\n",
    "            while depth[-1] >= node_depth[-1]:\n",
    "                depth.pop()\n",
    "                ways.pop()\n",
    "                feat.pop()\n",
    "                nodes.pop()\n",
    "            if children_left[i-1] == i: # 当前节点是上一个节点的左节点时；小于\n",
    "                a = \"{f}<={th}\".format(f=feat[-1], th=round(threshold[nodes[-1]], 4))\n",
    "                ways[-1] = a\n",
    "                last = '&'.join(ways)+':'+str(value[i][0][0])+':'+str(value[i][0][1])\n",
    "                rules.append(last)\n",
    "            else:\n",
    "                a = \"{f}>{th}\".format(f=feat[-1], th=round(threshold[nodes[-1]], 4))\n",
    "                ways[-1] = a\n",
    "                last = '&'.join(ways)+':'+str(value[i][0][0])+':'+str(value[i][0][1])\n",
    "                rules.append(last)\n",
    "        else: # 不是叶子结点，入栈\n",
    "            if i==0:\n",
    "                ways.append(round(threshold[i], 4))\n",
    "                depth.append(node_depth[i])\n",
    "                feat.append(feature_name[i])\n",
    "                nodes.append(i)\n",
    "            else:\n",
    "                while depth[-1] >= node_depth[i]:\n",
    "                    depth.pop()\n",
    "                    ways.pop()\n",
    "                    feat.pop()\n",
    "                    nodes.pop()\n",
    "                if i==children_left[nodes[-1]]:\n",
    "                    w = \"{f}<={th}\".format(f=feat[-1], th=round(threshold[nodes[-1]], 4))\n",
    "                else:\n",
    "                    w = \"{f}>{th}\".format(f=feat[-1], th=round(threshold[nodes[-1]], 4))\n",
    "                ways[-1] = w\n",
    "                ways.append(round(threshold[i], 4))\n",
    "                depth.append(node_depth[i])\n",
    "                feat.append(feature_name[i])\n",
    "                nodes.append(i)\n",
    "\n",
    "    return rules"
   ]
  },
  {
   "cell_type": "code",
   "execution_count": 44,
   "metadata": {},
   "outputs": [],
   "source": [
    "rules = DT_Get_Rules(clf, X)"
   ]
  },
  {
   "cell_type": "code",
   "execution_count": 45,
   "metadata": {},
   "outputs": [
    {
     "data": {
      "text/plain": [
       "['id_03_equal_frequence_bins_woe<=-0.0281&id_01_customize_bins_woe<=0.2056&id_02_equal_interval_bins_woe<=-0.0422:26106.0:1067.0',\n",
       " 'id_03_equal_frequence_bins_woe<=-0.0281&id_01_customize_bins_woe<=0.2056&id_02_equal_interval_bins_woe>-0.0422:28720.0:1399.0',\n",
       " 'id_03_equal_frequence_bins_woe<=-0.0281&id_01_customize_bins_woe>0.2056&id_02_equal_interval_bins_woe<=-0.6074:3254.0:96.0',\n",
       " 'id_03_equal_frequence_bins_woe<=-0.0281&id_01_customize_bins_woe>0.2056&id_02_equal_interval_bins_woe>-0.6074:15623.0:1644.0',\n",
       " 'id_03_equal_frequence_bins_woe>-0.0281&id_01_customize_bins_woe<=0.2056&id_02_equal_interval_bins_woe<=0.1024:45051.0:3726.0',\n",
       " 'id_03_equal_frequence_bins_woe>-0.0281&id_01_customize_bins_woe<=0.2056&id_02_equal_interval_bins_woe>0.1024:8494.0:1454.0',\n",
       " 'id_03_equal_frequence_bins_woe>-0.0281&id_01_customize_bins_woe>0.2056&id_02_equal_interval_bins_woe<=0.26:5047.0:1626.0',\n",
       " 'id_03_equal_frequence_bins_woe>-0.0281&id_01_customize_bins_woe>0.2056&id_02_equal_interval_bins_woe>0.26:620.0:306.0']"
      ]
     },
     "execution_count": 45,
     "metadata": {},
     "output_type": "execute_result"
    }
   ],
   "source": [
    "rules"
   ]
  },
  {
   "cell_type": "code",
   "execution_count": null,
   "metadata": {},
   "outputs": [],
   "source": []
  }
 ],
 "metadata": {
  "kernelspec": {
   "display_name": "base",
   "language": "python",
   "name": "python3"
  },
  "language_info": {
   "codemirror_mode": {
    "name": "ipython",
    "version": 3
   },
   "file_extension": ".py",
   "mimetype": "text/x-python",
   "name": "python",
   "nbconvert_exporter": "python",
   "pygments_lexer": "ipython3",
   "version": "3.8.17"
  },
  "orig_nbformat": 4
 },
 "nbformat": 4,
 "nbformat_minor": 2
}
